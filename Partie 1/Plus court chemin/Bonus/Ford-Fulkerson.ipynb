{
 "cells": [
  {
   "metadata": {},
   "cell_type": "markdown",
   "source": "#### <center> Implemetation du algorithme de Ford-Fulkerson </center>",
   "id": "210d27627c22305f"
  },
  {
   "metadata": {},
   "cell_type": "markdown",
   "source": "##### importation des bibliotheque",
   "id": "cfc60c0a266508b8"
  },
  {
   "metadata": {
    "ExecuteTime": {
     "end_time": "2024-05-28T15:17:00.524955Z",
     "start_time": "2024-05-28T15:17:00.506505Z"
    }
   },
   "cell_type": "code",
   "source": [
    "import networkx as nx\n",
    "import matplotlib.pyplot as plt"
   ],
   "id": "ff3ea26f8bf0413",
   "outputs": [],
   "execution_count": 99
  },
  {
   "metadata": {},
   "cell_type": "markdown",
   "source": "##### implementation de l'algorithme de Ford-Fulkerson",
   "id": "e8ef77c026aec503"
  },
  {
   "metadata": {},
   "cell_type": "markdown",
   "source": "",
   "id": "8d2437d0c96c37f8"
  },
  {
   "metadata": {
    "ExecuteTime": {
     "end_time": "2024-05-28T15:17:00.536243Z",
     "start_time": "2024-05-28T15:17:00.524955Z"
    }
   },
   "cell_type": "code",
   "source": [
    "# def BFS(graph, s, t, parent):\n",
    "#     visited = [False] * len(graph)\n",
    "#     queue = [s]\n",
    "#     visited[s] = True\n",
    "# \n",
    "#     while queue:\n",
    "#         u = queue.pop(0)\n",
    "# \n",
    "#         for ind, val in enumerate(graph[u]):\n",
    "#             if not visited[ind] and val > 0:\n",
    "#                 queue.append(ind)\n",
    "#                 visited[ind] = True\n",
    "#                 parent[ind] = u\n",
    "# \n",
    "#                 if ind == t:\n",
    "#                     return True\n",
    "# \n",
    "#     return False\n",
    "# \n",
    "# def Ford_Fulkerson(graph, source, sink):\n",
    "#     parent = [-1] * len(graph)\n",
    "#     max_flow = 0\n",
    "# \n",
    "#     while BFS(graph, source, sink, parent):\n",
    "#         path_flow = float(\"Inf\")\n",
    "#         s = sink\n",
    "# \n",
    "#         while s != source:\n",
    "#             path_flow = min(path_flow, graph[parent[s]][s])\n",
    "#             s = parent[s]\n",
    "# \n",
    "#         max_flow += path_flow\n",
    "# \n",
    "#         v = sink\n",
    "#         while v != source:\n",
    "#             u = parent[v]\n",
    "#             graph[u][v] -= path_flow\n",
    "#             graph[v][u] += path_flow\n",
    "#             v = parent[v]\n",
    "# \n",
    "#     return max_flow"
   ],
   "id": "192418a71f36262a",
   "outputs": [],
   "execution_count": 100
  },
  {
   "metadata": {},
   "cell_type": "markdown",
   "source": "##### On crée un graphe pour tester l'algorithme ",
   "id": "e47907f2390a814"
  }
 ],
 "metadata": {
  "kernelspec": {
   "display_name": "Python 3",
   "language": "python",
   "name": "python3"
  },
  "language_info": {
   "codemirror_mode": {
    "name": "ipython",
    "version": 2
   },
   "file_extension": ".py",
   "mimetype": "text/x-python",
   "name": "python",
   "nbconvert_exporter": "python",
   "pygments_lexer": "ipython2",
   "version": "2.7.6"
  }
 },
 "nbformat": 4,
 "nbformat_minor": 5
}
